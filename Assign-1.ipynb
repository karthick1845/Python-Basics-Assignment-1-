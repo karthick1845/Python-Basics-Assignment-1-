{
 "cells": [
  {
   "cell_type": "markdown",
   "metadata": {},
   "source": [
    "# Basics of Python Assignment - 1"
   ]
  },
  {
   "cell_type": "markdown",
   "metadata": {},
   "source": [
    "1) *         |-|       It is an Expression\n",
    "   \n",
    "   'hello'   |-|       It is an Value\n",
    "   \n",
    "   -         |-|      It is an Expression\n",
    "   \n",
    "   /         |-|       It is an Expression\n",
    "   \n",
    "   +         |-|       It is an Expression\n",
    "   \n",
    "   6         |-|       It is an Value"
   ]
  },
  {
   "cell_type": "markdown",
   "metadata": {},
   "source": [
    "2) |>| A Variable is a store of information.\n",
    "     String is a type of information that store in a given variable.\n",
    "   \n",
    "   |>| A variable could be in any letter or single character.\n",
    "     String will be always with in 'Single' or \"double colon\"."
   ]
  },
  {
   "cell_type": "markdown",
   "metadata": {},
   "source": [
    "3) |>| Strings\n",
    "   |>| Integers\n",
    "   |>| Floating points\n",
    "   |>| Boolean types"
   ]
  },
  {
   "cell_type": "markdown",
   "metadata": {},
   "source": [
    "4) |>| Expression is a combination of operators and variables.\n",
    "\n",
    "   |>| All expressions are represented a given values."
   ]
  },
  {
   "cell_type": "markdown",
   "metadata": {},
   "source": [
    "5) |>|  Statement is a instruction that user can execute.\n",
    "\n",
    "   |>|  Experssion is a operator which used in Statement."
   ]
  },
  {
   "cell_type": "markdown",
   "metadata": {},
   "source": [
    "6) balcon=22\n",
    "   balcon+1\n",
    "   \n",
    "   The variable balcon contain 23"
   ]
  },
  {
   "cell_type": "markdown",
   "metadata": {},
   "source": [
    "7) \"spam\"+\"spamspam\"='spamspamspam'\n",
    "\n",
    "       'spam'*3    ='spamspamspam'"
   ]
  },
  {
   "cell_type": "markdown",
   "metadata": {},
   "source": [
    "8) |>| Eggs is a Valid Variable,because it is not starts with digits or end with semicolon.\n",
    "\n",
    "   |>| 100 is invalid vairable,because it starts with digits."
   ]
  },
  {
   "cell_type": "markdown",
   "metadata": {},
   "source": [
    "9)  Integer          |>|   int()\n",
    "    Floating-point   |>|   float()\n",
    "    string           |>|   str()"
   ]
  },
  {
   "cell_type": "markdown",
   "metadata": {},
   "source": [
    "'10) |>| We could not add string with intergers.\n",
    "\n",
    "     |>| It can be fixed by converting a integers into string.\n",
    "    \n",
    "     'i have eaten'+'99'+'burritos'='i have eaten99burritos' "
   ]
  }
 ],
 "metadata": {
  "kernelspec": {
   "display_name": "Python 3",
   "language": "python",
   "name": "python3"
  },
  "language_info": {
   "codemirror_mode": {
    "name": "ipython",
    "version": 3
   },
   "file_extension": ".py",
   "mimetype": "text/x-python",
   "name": "python",
   "nbconvert_exporter": "python",
   "pygments_lexer": "ipython3",
   "version": "3.8.5"
  }
 },
 "nbformat": 4,
 "nbformat_minor": 4
}
